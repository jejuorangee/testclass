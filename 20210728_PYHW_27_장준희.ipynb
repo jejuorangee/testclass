{
  "nbformat": 4,
  "nbformat_minor": 0,
  "metadata": {
    "colab": {
      "name": "20210728_PYHW_27_장준희.ipynb",
      "provenance": []
    },
    "kernelspec": {
      "name": "python3",
      "display_name": "Python 3"
    },
    "language_info": {
      "name": "python"
    }
  },
  "cells": [
    {
      "cell_type": "code",
      "metadata": {
        "id": "jHMoVfta13VF"
      },
      "source": [
        "# 436\n",
        "\n",
        "# c"
      ],
      "execution_count": 3,
      "outputs": []
    },
    {
      "cell_type": "code",
      "metadata": {
        "id": "c6zcQAoX1_Z4"
      },
      "source": [
        "# 437\n",
        "\n",
        "  # b"
      ],
      "execution_count": 12,
      "outputs": []
    },
    {
      "cell_type": "code",
      "metadata": {
        "id": "pGDUdpK_2izx"
      },
      "source": [
        "# 438\n",
        "\n",
        "# c\n"
      ],
      "execution_count": 7,
      "outputs": []
    },
    {
      "cell_type": "code",
      "metadata": {
        "id": "dRyPupFU28Kd"
      },
      "source": [
        "# 439\n",
        "#b\n"
      ],
      "execution_count": 9,
      "outputs": []
    },
    {
      "cell_type": "code",
      "metadata": {
        "id": "u25unv9e3B-m"
      },
      "source": [
        "# 440\n",
        "# b"
      ],
      "execution_count": 11,
      "outputs": []
    },
    {
      "cell_type": "code",
      "metadata": {
        "id": "xFpR_afB3Lbi"
      },
      "source": [
        "# 441\n",
        "\n",
        "# a"
      ],
      "execution_count": 14,
      "outputs": []
    },
    {
      "cell_type": "code",
      "metadata": {
        "id": "ZSN8cm5v3Y2e"
      },
      "source": [
        "# 442\n",
        " # ? \n"
      ],
      "execution_count": 19,
      "outputs": []
    },
    {
      "cell_type": "code",
      "metadata": {
        "id": "avqsNNtg3mf2"
      },
      "source": [
        "# 443\n",
        "\n",
        "# ?\n"
      ],
      "execution_count": 20,
      "outputs": []
    },
    {
      "cell_type": "code",
      "metadata": {
        "id": "Wfnygg3-3_UW"
      },
      "source": [
        "# 444\n",
        "\n",
        "# c"
      ],
      "execution_count": 25,
      "outputs": []
    },
    {
      "cell_type": "code",
      "metadata": {
        "id": "2e1voNpd4J2r"
      },
      "source": [
        "# 445\n",
        "# a "
      ],
      "execution_count": 26,
      "outputs": []
    },
    {
      "cell_type": "code",
      "metadata": {
        "colab": {
          "base_uri": "https://localhost:8080/"
        },
        "id": "ws5UoRBm4c7S",
        "outputId": "d7cc81d8-3001-4c08-b9bb-1a7f3c31a6ac"
      },
      "source": [
        "# 446\n",
        "# c\n",
        "a = ['a','b','c','1','2','A','B']\n",
        "print(min(a))"
      ],
      "execution_count": 28,
      "outputs": [
        {
          "output_type": "stream",
          "text": [
            "1\n"
          ],
          "name": "stdout"
        }
      ]
    },
    {
      "cell_type": "code",
      "metadata": {
        "id": "vZsQE79G4wnC"
      },
      "source": [
        "# 447\n",
        "# 1\n"
      ],
      "execution_count": 29,
      "outputs": []
    },
    {
      "cell_type": "code",
      "metadata": {
        "id": "A09eTMDb45uK"
      },
      "source": [
        "# 448\n",
        "# 6"
      ],
      "execution_count": 30,
      "outputs": []
    },
    {
      "cell_type": "code",
      "metadata": {
        "colab": {
          "base_uri": "https://localhost:8080/"
        },
        "id": "rRcVw8s649be",
        "outputId": "7786ac89-c51f-4313-cf4b-2caff29386b4"
      },
      "source": [
        "\n",
        "# 449\n",
        "# c"
      ],
      "execution_count": 34,
      "outputs": [
        {
          "output_type": "stream",
          "text": [
            "-24\n"
          ],
          "name": "stdout"
        }
      ]
    },
    {
      "cell_type": "code",
      "metadata": {
        "id": "VsbB94_y5IM2"
      },
      "source": [
        "# 450\n",
        "# b"
      ],
      "execution_count": 33,
      "outputs": []
    },
    {
      "cell_type": "code",
      "metadata": {
        "id": "67lHPCph5RzL"
      },
      "source": [
        "# 451\n",
        "# a\n"
      ],
      "execution_count": 35,
      "outputs": []
    },
    {
      "cell_type": "code",
      "metadata": {
        "id": "ll7HfJ_C5ajP"
      },
      "source": [
        "# 452\n",
        "\n",
        "# ?\n"
      ],
      "execution_count": 37,
      "outputs": []
    },
    {
      "cell_type": "code",
      "metadata": {
        "id": "QfiQUR-D5yKb"
      },
      "source": [
        "# 453\n",
        "\n",
        "# ?\n"
      ],
      "execution_count": 38,
      "outputs": []
    },
    {
      "cell_type": "code",
      "metadata": {
        "id": "DtdxgRpO6Ibf"
      },
      "source": [
        "# 454\n",
        "\n",
        "\n"
      ],
      "execution_count": 39,
      "outputs": []
    },
    {
      "cell_type": "code",
      "metadata": {
        "id": "9LWmiIZO6Xeb"
      },
      "source": [
        "# 455\n"
      ],
      "execution_count": 40,
      "outputs": []
    },
    {
      "cell_type": "code",
      "metadata": {
        "id": "86J1o5ez6YyD"
      },
      "source": [
        "# Algorithm Homework"
      ],
      "execution_count": 41,
      "outputs": []
    },
    {
      "cell_type": "code",
      "metadata": {
        "id": "kYMF3OOl6ncT"
      },
      "source": [
        ""
      ],
      "execution_count": null,
      "outputs": []
    }
  ]
}